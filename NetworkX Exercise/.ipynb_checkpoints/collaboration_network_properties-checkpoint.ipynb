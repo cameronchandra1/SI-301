{
 "cells": [
  {
   "cell_type": "markdown",
   "metadata": {
    "collapsed": true
   },
   "source": [
    "# Collaboration Networks in Physics\n",
    "\n",
    "In this exercise we will explore a co-author network constructed from research papers on High Energy Physics Theory in the pre-print server [Arxiv](https://arxiv.org/). The nodes in this network are authors of papers. Two authors that have published at least one paper together have an edge between them. This is an undirected network."
   ]
  },
  {
   "cell_type": "markdown",
   "metadata": {},
   "source": [
    "## Initializing NetworkX\n",
    "We will now use the NetworkX package to analyse this network. As the first step we import NetworkX in to the work environment"
   ]
  },
  {
   "cell_type": "code",
   "execution_count": 1,
   "metadata": {
    "collapsed": true,
    "scrolled": false
   },
   "outputs": [],
   "source": [
    "import networkx as nx"
   ]
  },
  {
   "cell_type": "markdown",
   "metadata": {},
   "source": [
    "## Constructing the network\n",
    "\n",
    "The data for the network is stored in the file **ca-HepTh.txt** in the work folder. It is in **edgelist** format, which means that each line contains two numbers separated by a tab. Each of these numbers corresponds to a author. Thus each line corresponds to an edge between two authors and the file contains the list of all edges in the network.\n",
    "\n",
    "Now, we will load this file in to a NetworkX network object."
   ]
  },
  {
   "cell_type": "code",
   "execution_count": 4,
   "metadata": {
    "scrolled": false
   },
   "outputs": [],
   "source": [
    "#arg1 - path to the file\n",
    "#arg2 - create a undirected network\n",
    "#arg3 - delimiter used to separate the author identifiers when defining an edge\n",
    "g = nx.read_edgelist(\"ca-HepTh.txt\", create_using=nx.Graph(), delimiter='\\t')"
   ]
  },
  {
   "cell_type": "markdown",
   "metadata": {},
   "source": [
    "## Size of the network\n",
    "Let's try find out the number of nodes (authors) and edges(collaborations) in this network."
   ]
  },
  {
   "cell_type": "markdown",
   "metadata": {},
   "source": [
    "#### Number of Nodes"
   ]
  },
  {
   "cell_type": "code",
   "execution_count": 5,
   "metadata": {
    "scrolled": false
   },
   "outputs": [
    {
     "data": {
      "text/plain": [
       "9877"
      ]
     },
     "execution_count": 5,
     "metadata": {},
     "output_type": "execute_result"
    }
   ],
   "source": [
    "g.number_of_nodes()"
   ]
  },
  {
   "cell_type": "markdown",
   "metadata": {},
   "source": [
    "#### Number of Edges"
   ]
  },
  {
   "cell_type": "code",
   "execution_count": 6,
   "metadata": {
    "scrolled": false
   },
   "outputs": [
    {
     "data": {
      "text/plain": [
       "25998"
      ]
     },
     "execution_count": 6,
     "metadata": {},
     "output_type": "execute_result"
    }
   ],
   "source": [
    "g.number_of_edges()"
   ]
  },
  {
   "cell_type": "markdown",
   "metadata": {},
   "source": [
    "## Diameter of the network\n",
    "\n",
    "Now, let's try to get some understanding about the overall connectivitiy of this network. We'll try to find the diameter of the network, which the highest distance between any pair of nodes in the network."
   ]
  },
  {
   "cell_type": "code",
   "execution_count": 7,
   "metadata": {
    "scrolled": false
   },
   "outputs": [
    {
     "ename": "NetworkXError",
     "evalue": "Graph not connected: infinite path length",
     "output_type": "error",
     "traceback": [
      "\u001b[0;31m---------------------------------------------------------------------------\u001b[0m",
      "\u001b[0;31mNetworkXError\u001b[0m                             Traceback (most recent call last)",
      "\u001b[0;32m<ipython-input-7-2b8a3cef05a2>\u001b[0m in \u001b[0;36m<module>\u001b[0;34m()\u001b[0m\n\u001b[0;32m----> 1\u001b[0;31m \u001b[0mnx\u001b[0m\u001b[0;34m.\u001b[0m\u001b[0mdiameter\u001b[0m\u001b[0;34m(\u001b[0m\u001b[0mg\u001b[0m\u001b[0;34m)\u001b[0m\u001b[0;34m\u001b[0m\u001b[0m\n\u001b[0m",
      "\u001b[0;32m~/anaconda/envs/py36/lib/python3.6/site-packages/networkx/algorithms/distance_measures.py\u001b[0m in \u001b[0;36mdiameter\u001b[0;34m(G, e)\u001b[0m\n\u001b[1;32m     94\u001b[0m     \"\"\"\n\u001b[1;32m     95\u001b[0m     \u001b[0;32mif\u001b[0m \u001b[0me\u001b[0m \u001b[0;32mis\u001b[0m \u001b[0;32mNone\u001b[0m\u001b[0;34m:\u001b[0m\u001b[0;34m\u001b[0m\u001b[0m\n\u001b[0;32m---> 96\u001b[0;31m         \u001b[0me\u001b[0m\u001b[0;34m=\u001b[0m\u001b[0meccentricity\u001b[0m\u001b[0;34m(\u001b[0m\u001b[0mG\u001b[0m\u001b[0;34m)\u001b[0m\u001b[0;34m\u001b[0m\u001b[0m\n\u001b[0m\u001b[1;32m     97\u001b[0m     \u001b[0;32mreturn\u001b[0m \u001b[0mmax\u001b[0m\u001b[0;34m(\u001b[0m\u001b[0me\u001b[0m\u001b[0;34m.\u001b[0m\u001b[0mvalues\u001b[0m\u001b[0;34m(\u001b[0m\u001b[0;34m)\u001b[0m\u001b[0;34m)\u001b[0m\u001b[0;34m\u001b[0m\u001b[0m\n\u001b[1;32m     98\u001b[0m \u001b[0;34m\u001b[0m\u001b[0m\n",
      "\u001b[0;32m~/anaconda/envs/py36/lib/python3.6/site-packages/networkx/algorithms/distance_measures.py\u001b[0m in \u001b[0;36meccentricity\u001b[0;34m(G, v, sp)\u001b[0m\n\u001b[1;32m     61\u001b[0m         \u001b[0;32mif\u001b[0m \u001b[0mL\u001b[0m \u001b[0;34m!=\u001b[0m \u001b[0morder\u001b[0m\u001b[0;34m:\u001b[0m\u001b[0;34m\u001b[0m\u001b[0m\n\u001b[1;32m     62\u001b[0m             \u001b[0mmsg\u001b[0m \u001b[0;34m=\u001b[0m \u001b[0;34m\"Graph not connected: infinite path length\"\u001b[0m\u001b[0;34m\u001b[0m\u001b[0m\n\u001b[0;32m---> 63\u001b[0;31m             \u001b[0;32mraise\u001b[0m \u001b[0mnetworkx\u001b[0m\u001b[0;34m.\u001b[0m\u001b[0mNetworkXError\u001b[0m\u001b[0;34m(\u001b[0m\u001b[0mmsg\u001b[0m\u001b[0;34m)\u001b[0m\u001b[0;34m\u001b[0m\u001b[0m\n\u001b[0m\u001b[1;32m     64\u001b[0m \u001b[0;34m\u001b[0m\u001b[0m\n\u001b[1;32m     65\u001b[0m         \u001b[0me\u001b[0m\u001b[0;34m[\u001b[0m\u001b[0mn\u001b[0m\u001b[0;34m]\u001b[0m\u001b[0;34m=\u001b[0m\u001b[0mmax\u001b[0m\u001b[0;34m(\u001b[0m\u001b[0mlength\u001b[0m\u001b[0;34m.\u001b[0m\u001b[0mvalues\u001b[0m\u001b[0;34m(\u001b[0m\u001b[0;34m)\u001b[0m\u001b[0;34m)\u001b[0m\u001b[0;34m\u001b[0m\u001b[0m\n",
      "\u001b[0;31mNetworkXError\u001b[0m: Graph not connected: infinite path length"
     ]
    }
   ],
   "source": [
    "nx.diameter(g)"
   ]
  },
  {
   "cell_type": "markdown",
   "metadata": {},
   "source": [
    "#### What does this mean?\n",
    "We got an error because **the network is not connected**. Generally, this means that there are at least 2 components in the network. In such a case diamter for the whole network is infinite because there's no path from nodes of one component to nodes of another.\n",
    "\n",
    "We can check if the network is connected directly with the following command."
   ]
  },
  {
   "cell_type": "code",
   "execution_count": 8,
   "metadata": {
    "scrolled": false
   },
   "outputs": [
    {
     "data": {
      "text/plain": [
       "False"
      ]
     },
     "execution_count": 8,
     "metadata": {},
     "output_type": "execute_result"
    }
   ],
   "source": [
    "nx.is_connected(g)"
   ]
  },
  {
   "cell_type": "markdown",
   "metadata": {},
   "source": [
    "#### What do you think about the result for the diameter?  Is it meaningful?\n",
    "\n",
    "In reality, it depends on the network. Imagine a situation where there are only components in the network; a isolated node and the rest of the nodes in a single component. Diameter would still be infinity."
   ]
  },
  {
   "cell_type": "markdown",
   "metadata": {},
   "source": [
    "## Network Components\n",
    "Let's now find out some information about the components  present in this network. Each component is a subset of nodes where there's a path between each pair of nodes in the subset and no links from any of its nodes to remaining nodes in the network  "
   ]
  },
  {
   "cell_type": "markdown",
   "metadata": {},
   "source": [
    "#### Number of Components"
   ]
  },
  {
   "cell_type": "code",
   "execution_count": 9,
   "metadata": {
    "scrolled": false
   },
   "outputs": [
    {
     "data": {
      "text/plain": [
       "429"
      ]
     },
     "execution_count": 9,
     "metadata": {},
     "output_type": "execute_result"
    }
   ],
   "source": [
    "nx.number_connected_components(g)"
   ]
  },
  {
   "cell_type": "markdown",
   "metadata": {},
   "source": [
    "#### Component Membership\n",
    "We can use NetworkX to find which nodes belong to each of these components."
   ]
  },
  {
   "cell_type": "code",
   "execution_count": 20,
   "metadata": {
    "scrolled": false
   },
   "outputs": [],
   "source": [
    "#Find the set of components in g. \n",
    "#Returns a generator object you can iterate (but not a list)\n",
    "components = nx.connected_components(g)\n",
    "#Iterate the generator and load the components in to a list. \n",
    "#Each component is a set of nodes\n",
    "components = [component for component in components]"
   ]
  },
  {
   "cell_type": "markdown",
   "metadata": {},
   "source": [
    "Let's take a look at one of the components"
   ]
  },
  {
   "cell_type": "code",
   "execution_count": 21,
   "metadata": {},
   "outputs": [
    {
     "data": {
      "text/plain": [
       "{'13245', '20801'}"
      ]
     },
     "execution_count": 21,
     "metadata": {},
     "output_type": "execute_result"
    }
   ],
   "source": [
    "components[10]"
   ]
  },
  {
   "cell_type": "markdown",
   "metadata": {},
   "source": [
    "## Is there a Giant Component?\n",
    "Now that we know what the components are, let's try to figure out if there's a component that represents a significant fraction of the nodes in the network. To do this we will sort the components in the descending order of their sizes."
   ]
  },
  {
   "cell_type": "code",
   "execution_count": 23,
   "metadata": {
    "collapsed": true
   },
   "outputs": [],
   "source": [
    "#parameters of sorted\n",
    "#  arg1 - the list of components\n",
    "#  arg2 - the property of each list item by which to sort - len gives the size of the set \n",
    "#  arg3 - reverse=True to sort in the descending order\n",
    "components = sorted(components, key=len, reverse=True)"
   ]
  },
  {
   "cell_type": "markdown",
   "metadata": {},
   "source": [
    "The largest component is in the first position (index 0)"
   ]
  },
  {
   "cell_type": "code",
   "execution_count": 39,
   "metadata": {
    "scrolled": true
   },
   "outputs": [
    {
     "data": {
      "text/plain": [
       "{'21811',\n",
       " '17016',\n",
       " '4638',\n",
       " '9893',\n",
       " '12733',\n",
       " '10590',\n",
       " '3058',\n",
       " '13859',\n",
       " '4846',\n",
       " '21776',\n",
       " '24559',\n",
       " '10235',\n",
       " '23674',\n",
       " '9135',\n",
       " '3964',\n",
       " '8177',\n",
       " '9325',\n",
       " '26100',\n",
       " '14078',\n",
       " '13026',\n",
       " '20155',\n",
       " '25959',\n",
       " '21560',\n",
       " '6815',\n",
       " '21594',\n",
       " '25205',\n",
       " '14037',\n",
       " '4247',\n",
       " '2388',\n",
       " '9413',\n",
       " '19783',\n",
       " '20517',\n",
       " '14496',\n",
       " '7050',\n",
       " '11923',\n",
       " '4583',\n",
       " '11788',\n",
       " '3988',\n",
       " '17208',\n",
       " '14093',\n",
       " '6529',\n",
       " '19545',\n",
       " '25378',\n",
       " '22336',\n",
       " '14009',\n",
       " '10966',\n",
       " '12155',\n",
       " '14559',\n",
       " '15163',\n",
       " '1436',\n",
       " '11182',\n",
       " '26159',\n",
       " '13205',\n",
       " '25346',\n",
       " '18235',\n",
       " '15171',\n",
       " '8630',\n",
       " '18676',\n",
       " '6525',\n",
       " '11233',\n",
       " '12498',\n",
       " '17266',\n",
       " '4576',\n",
       " '1862',\n",
       " '20558',\n",
       " '9273',\n",
       " '14403',\n",
       " '11865',\n",
       " '3066',\n",
       " '16801',\n",
       " '8922',\n",
       " '8868',\n",
       " '20940',\n",
       " '24204',\n",
       " '18894',\n",
       " '17126',\n",
       " '3849',\n",
       " '19900',\n",
       " '11863',\n",
       " '6642',\n",
       " '3547',\n",
       " '13483',\n",
       " '16429',\n",
       " '9095',\n",
       " '9721',\n",
       " '20683',\n",
       " '78',\n",
       " '17984',\n",
       " '10467',\n",
       " '21142',\n",
       " '15325',\n",
       " '4046',\n",
       " '113',\n",
       " '13616',\n",
       " '21754',\n",
       " '22239',\n",
       " '11563',\n",
       " '15774',\n",
       " '11047',\n",
       " '1265',\n",
       " '4265',\n",
       " '15770',\n",
       " '11746',\n",
       " '8643',\n",
       " '17997',\n",
       " '21777',\n",
       " '12066',\n",
       " '20554',\n",
       " '20434',\n",
       " '22149',\n",
       " '22369',\n",
       " '3511',\n",
       " '17113',\n",
       " '21831',\n",
       " '7510',\n",
       " '3944',\n",
       " '8148',\n",
       " '21816',\n",
       " '21547',\n",
       " '1498',\n",
       " '18613',\n",
       " '17228',\n",
       " '25204',\n",
       " '9124',\n",
       " '18209',\n",
       " '14128',\n",
       " '15538',\n",
       " '17592',\n",
       " '11066',\n",
       " '7855',\n",
       " '7307',\n",
       " '2465',\n",
       " '10880',\n",
       " '22836',\n",
       " '22032',\n",
       " '17580',\n",
       " '24372',\n",
       " '25069',\n",
       " '21162',\n",
       " '26127',\n",
       " '2459',\n",
       " '20538',\n",
       " '6859',\n",
       " '6629',\n",
       " '21771',\n",
       " '9020',\n",
       " '9968',\n",
       " '21101',\n",
       " '23558',\n",
       " '23770',\n",
       " '4727',\n",
       " '24002',\n",
       " '25138',\n",
       " '6158',\n",
       " '7188',\n",
       " '25319',\n",
       " '19462',\n",
       " '22725',\n",
       " '25387',\n",
       " '21167',\n",
       " '6388',\n",
       " '14542',\n",
       " '1839',\n",
       " '21779',\n",
       " '16485',\n",
       " '23051',\n",
       " '10925',\n",
       " '15321',\n",
       " '23474',\n",
       " '16881',\n",
       " '12861',\n",
       " '19457',\n",
       " '15395',\n",
       " '20644',\n",
       " '8786',\n",
       " '12380',\n",
       " '12423',\n",
       " '7715',\n",
       " '5359',\n",
       " '17125',\n",
       " '4117',\n",
       " '23950',\n",
       " '21994',\n",
       " '8398',\n",
       " '8513',\n",
       " '21723',\n",
       " '269',\n",
       " '18396',\n",
       " '4631',\n",
       " '18160',\n",
       " '10446',\n",
       " '3721',\n",
       " '6427',\n",
       " '18141',\n",
       " '18102',\n",
       " '18549',\n",
       " '20550',\n",
       " '8458',\n",
       " '9248',\n",
       " '13364',\n",
       " '19204',\n",
       " '20346',\n",
       " '24587',\n",
       " '7592',\n",
       " '21968',\n",
       " '6823',\n",
       " '12641',\n",
       " '12157',\n",
       " '15253',\n",
       " '16333',\n",
       " '19313',\n",
       " '13649',\n",
       " '141',\n",
       " '15589',\n",
       " '20184',\n",
       " '3508',\n",
       " '4068',\n",
       " '2368',\n",
       " '5125',\n",
       " '22242',\n",
       " '16676',\n",
       " '1149',\n",
       " '21823',\n",
       " '13801',\n",
       " '8666',\n",
       " '10477',\n",
       " '12049',\n",
       " '10825',\n",
       " '25272',\n",
       " '1404',\n",
       " '21379',\n",
       " '23628',\n",
       " '24578',\n",
       " '8973',\n",
       " '3655',\n",
       " '6482',\n",
       " '26178',\n",
       " '6895',\n",
       " '11910',\n",
       " '24057',\n",
       " '2055',\n",
       " '10819',\n",
       " '5597',\n",
       " '25053',\n",
       " '10824',\n",
       " '3820',\n",
       " '5360',\n",
       " '20255',\n",
       " '7885',\n",
       " '16414',\n",
       " '4771',\n",
       " '17817',\n",
       " '25598',\n",
       " '14007',\n",
       " '18879',\n",
       " '11379',\n",
       " '5417',\n",
       " '7584',\n",
       " '836',\n",
       " '9649',\n",
       " '19081',\n",
       " '22457',\n",
       " '3939',\n",
       " '12787',\n",
       " '24029',\n",
       " '19048',\n",
       " '21027',\n",
       " '24860',\n",
       " '8067',\n",
       " '19890',\n",
       " '16779',\n",
       " '2560',\n",
       " '18784',\n",
       " '839',\n",
       " '19528',\n",
       " '880',\n",
       " '23163',\n",
       " '8595',\n",
       " '16349',\n",
       " '21438',\n",
       " '15626',\n",
       " '375',\n",
       " '12112',\n",
       " '16598',\n",
       " '9984',\n",
       " '510',\n",
       " '24121',\n",
       " '3630',\n",
       " '9482',\n",
       " '13831',\n",
       " '6635',\n",
       " '9269',\n",
       " '2243',\n",
       " '2326',\n",
       " '20317',\n",
       " '1000',\n",
       " '25868',\n",
       " '17755',\n",
       " '16644',\n",
       " '23552',\n",
       " '12868',\n",
       " '10501',\n",
       " '124',\n",
       " '205',\n",
       " '15528',\n",
       " '25382',\n",
       " '11572',\n",
       " '93',\n",
       " '24129',\n",
       " '3055',\n",
       " '10555',\n",
       " '17956',\n",
       " '4960',\n",
       " '5601',\n",
       " '15846',\n",
       " '22728',\n",
       " '18066',\n",
       " '6611',\n",
       " '4488',\n",
       " '8047',\n",
       " '25480',\n",
       " '7007',\n",
       " '9483',\n",
       " '21159',\n",
       " '19612',\n",
       " '2485',\n",
       " '25437',\n",
       " '7857',\n",
       " '21157',\n",
       " '19383',\n",
       " '18217',\n",
       " '2613',\n",
       " '19469',\n",
       " '10039',\n",
       " '20089',\n",
       " '3412',\n",
       " '24595',\n",
       " '7533',\n",
       " '5444',\n",
       " '13318',\n",
       " '16554',\n",
       " '19865',\n",
       " '9504',\n",
       " '25931',\n",
       " '6943',\n",
       " '16594',\n",
       " '676',\n",
       " '3197',\n",
       " '12691',\n",
       " '4822',\n",
       " '5271',\n",
       " '4466',\n",
       " '15665',\n",
       " '18558',\n",
       " '17800',\n",
       " '23092',\n",
       " '3037',\n",
       " '16469',\n",
       " '9283',\n",
       " '6009',\n",
       " '14079',\n",
       " '14372',\n",
       " '16565',\n",
       " '500',\n",
       " '4639',\n",
       " '18159',\n",
       " '3204',\n",
       " '9890',\n",
       " '1075',\n",
       " '9485',\n",
       " '1024',\n",
       " '9907',\n",
       " '7638',\n",
       " '13096',\n",
       " '9341',\n",
       " '12260',\n",
       " '26130',\n",
       " '7768',\n",
       " '15416',\n",
       " '16607',\n",
       " '5107',\n",
       " '10726',\n",
       " '6156',\n",
       " '10463',\n",
       " '13713',\n",
       " '21929',\n",
       " '13013',\n",
       " '3765',\n",
       " '17861',\n",
       " '11630',\n",
       " '23417',\n",
       " '9426',\n",
       " '22087',\n",
       " '16940',\n",
       " '6175',\n",
       " '8161',\n",
       " '1823',\n",
       " '14976',\n",
       " '2622',\n",
       " '16022',\n",
       " '21281',\n",
       " '5143',\n",
       " '17463',\n",
       " '20552',\n",
       " '9037',\n",
       " '26157',\n",
       " '23806',\n",
       " '26038',\n",
       " '16482',\n",
       " '22483',\n",
       " '1151',\n",
       " '21860',\n",
       " '14500',\n",
       " '25910',\n",
       " '16640',\n",
       " '10496',\n",
       " '12709',\n",
       " '5825',\n",
       " '8216',\n",
       " '9732',\n",
       " '18739',\n",
       " '20427',\n",
       " '16575',\n",
       " '12971',\n",
       " '14967',\n",
       " '8710',\n",
       " '8365',\n",
       " '8301',\n",
       " '15905',\n",
       " '17569',\n",
       " '195',\n",
       " '12337',\n",
       " '5634',\n",
       " '18314',\n",
       " '18488',\n",
       " '25006',\n",
       " '23616',\n",
       " '16755',\n",
       " '8614',\n",
       " '25056',\n",
       " '4868',\n",
       " '19964',\n",
       " '19450',\n",
       " '13989',\n",
       " '18189',\n",
       " '2774',\n",
       " '12660',\n",
       " '20122',\n",
       " '491',\n",
       " '19578',\n",
       " '15384',\n",
       " '10640',\n",
       " '13813',\n",
       " '1408',\n",
       " '22917',\n",
       " '21051',\n",
       " '12710',\n",
       " '22790',\n",
       " '11629',\n",
       " '6351',\n",
       " '2190',\n",
       " '18282',\n",
       " '3875',\n",
       " '2993',\n",
       " '18973',\n",
       " '22489',\n",
       " '22503',\n",
       " '2124',\n",
       " '3773',\n",
       " '11275',\n",
       " '16505',\n",
       " '4467',\n",
       " '2443',\n",
       " '18724',\n",
       " '9188',\n",
       " '6533',\n",
       " '24330',\n",
       " '17501',\n",
       " '10967',\n",
       " '3387',\n",
       " '9267',\n",
       " '21696',\n",
       " '15596',\n",
       " '5739',\n",
       " '25554',\n",
       " '20030',\n",
       " '13600',\n",
       " '13480',\n",
       " '16039',\n",
       " '20618',\n",
       " '10526',\n",
       " '16495',\n",
       " '24385',\n",
       " '6911',\n",
       " '2879',\n",
       " '11490',\n",
       " '13174',\n",
       " '3450',\n",
       " '13498',\n",
       " '5629',\n",
       " '22504',\n",
       " '10388',\n",
       " '1310',\n",
       " '8128',\n",
       " '272',\n",
       " '5608',\n",
       " '25107',\n",
       " '8079',\n",
       " '3507',\n",
       " '5427',\n",
       " '19167',\n",
       " '3207',\n",
       " '10898',\n",
       " '21931',\n",
       " '19147',\n",
       " '6317',\n",
       " '12149',\n",
       " '17823',\n",
       " '885',\n",
       " '114',\n",
       " '26020',\n",
       " '9944',\n",
       " '2527',\n",
       " '10427',\n",
       " '18743',\n",
       " '17194',\n",
       " '13625',\n",
       " '15931',\n",
       " '8178',\n",
       " '11878',\n",
       " '884',\n",
       " '9616',\n",
       " '11898',\n",
       " '396',\n",
       " '16941',\n",
       " '16611',\n",
       " '25435',\n",
       " '25615',\n",
       " '16727',\n",
       " '13653',\n",
       " '25988',\n",
       " '18681',\n",
       " '1045',\n",
       " '23503',\n",
       " '135',\n",
       " '25663',\n",
       " '14377',\n",
       " '23912',\n",
       " '11661',\n",
       " '23418',\n",
       " '16743',\n",
       " '21075',\n",
       " '2950',\n",
       " '18941',\n",
       " '9074',\n",
       " '12981',\n",
       " '23649',\n",
       " '20645',\n",
       " '4673',\n",
       " '2239',\n",
       " '18000',\n",
       " '21491',\n",
       " '1855',\n",
       " '11447',\n",
       " '15718',\n",
       " '22746',\n",
       " '2826',\n",
       " '21409',\n",
       " '1860',\n",
       " '231',\n",
       " '1966',\n",
       " '23944',\n",
       " '15161',\n",
       " '9208',\n",
       " '18013',\n",
       " '19605',\n",
       " '1006',\n",
       " '7197',\n",
       " '3113',\n",
       " '24489',\n",
       " '6078',\n",
       " '2143',\n",
       " '5184',\n",
       " '20229',\n",
       " '14552',\n",
       " '10956',\n",
       " '8298',\n",
       " '16013',\n",
       " '17419',\n",
       " '11621',\n",
       " '17306',\n",
       " '2404',\n",
       " '5287',\n",
       " '15682',\n",
       " '5529',\n",
       " '22806',\n",
       " '6896',\n",
       " '15244',\n",
       " '10499',\n",
       " '4301',\n",
       " '6387',\n",
       " '8715',\n",
       " '7317',\n",
       " '17309',\n",
       " '19551',\n",
       " '10350',\n",
       " '9800',\n",
       " '20495',\n",
       " '5412',\n",
       " '18605',\n",
       " '3420',\n",
       " '16935',\n",
       " '543',\n",
       " '24708',\n",
       " '18161',\n",
       " '18337',\n",
       " '24861',\n",
       " '24402',\n",
       " '5953',\n",
       " '12866',\n",
       " '10514',\n",
       " '6082',\n",
       " '15189',\n",
       " '18370',\n",
       " '11372',\n",
       " '25628',\n",
       " '23511',\n",
       " '13493',\n",
       " '1613',\n",
       " '25911',\n",
       " '26141',\n",
       " '20536',\n",
       " '23146',\n",
       " '19657',\n",
       " '5230',\n",
       " '17304',\n",
       " '2803',\n",
       " '18278',\n",
       " '15372',\n",
       " '5346',\n",
       " '15961',\n",
       " '15786',\n",
       " '10623',\n",
       " '8505',\n",
       " '3878',\n",
       " '11213',\n",
       " '15942',\n",
       " '22555',\n",
       " '4513',\n",
       " '5543',\n",
       " '9397',\n",
       " '19954',\n",
       " '4379',\n",
       " '1822',\n",
       " '24163',\n",
       " '11602',\n",
       " '20257',\n",
       " '5672',\n",
       " '17249',\n",
       " '15435',\n",
       " '1738',\n",
       " '9030',\n",
       " '4896',\n",
       " '18866',\n",
       " '23346',\n",
       " '7522',\n",
       " '3843',\n",
       " '1229',\n",
       " '2789',\n",
       " '9988',\n",
       " '21169',\n",
       " '7625',\n",
       " '75',\n",
       " '4148',\n",
       " '10352',\n",
       " '11841',\n",
       " '12334',\n",
       " '18145',\n",
       " '7726',\n",
       " '17626',\n",
       " '26194',\n",
       " '4382',\n",
       " '9937',\n",
       " '25440',\n",
       " '4189',\n",
       " '16336',\n",
       " '6858',\n",
       " '11032',\n",
       " '23555',\n",
       " '22203',\n",
       " '24490',\n",
       " '17339',\n",
       " '14351',\n",
       " '6010',\n",
       " '23637',\n",
       " '13619',\n",
       " '3502',\n",
       " '20668',\n",
       " '10600',\n",
       " '2511',\n",
       " '20253',\n",
       " '15382',\n",
       " '21315',\n",
       " '11925',\n",
       " '18154',\n",
       " '24295',\n",
       " '4241',\n",
       " '22436',\n",
       " '6904',\n",
       " '15971',\n",
       " '9138',\n",
       " '10881',\n",
       " '1599',\n",
       " '17575',\n",
       " '14746',\n",
       " '9593',\n",
       " '9313',\n",
       " '5729',\n",
       " '3312',\n",
       " '22',\n",
       " '4146',\n",
       " '17681',\n",
       " '11113',\n",
       " '25978',\n",
       " '7015',\n",
       " '1711',\n",
       " '2127',\n",
       " '11824',\n",
       " '24479',\n",
       " '25565',\n",
       " '5402',\n",
       " '18373',\n",
       " '14430',\n",
       " '25856',\n",
       " '13749',\n",
       " '22497',\n",
       " '2001',\n",
       " '19870',\n",
       " '22188',\n",
       " '2293',\n",
       " '13703',\n",
       " '6556',\n",
       " '14809',\n",
       " '21930',\n",
       " '4141',\n",
       " '10346',\n",
       " '15882',\n",
       " '25219',\n",
       " '18905',\n",
       " '7053',\n",
       " '25607',\n",
       " '1093',\n",
       " '19924',\n",
       " '24032',\n",
       " '8312',\n",
       " '3418',\n",
       " '22834',\n",
       " '23145',\n",
       " '9993',\n",
       " '14286',\n",
       " '7463',\n",
       " '10912',\n",
       " '18457',\n",
       " '12043',\n",
       " '13624',\n",
       " '9863',\n",
       " '3431',\n",
       " '16020',\n",
       " '10000',\n",
       " '19791',\n",
       " '17286',\n",
       " '25402',\n",
       " '19807',\n",
       " '1675',\n",
       " '4847',\n",
       " '9736',\n",
       " '19945',\n",
       " '10871',\n",
       " '24174',\n",
       " '10532',\n",
       " '4458',\n",
       " '19687',\n",
       " '10458',\n",
       " '20787',\n",
       " '8787',\n",
       " '7615',\n",
       " '11102',\n",
       " '14747',\n",
       " '22530',\n",
       " '21707',\n",
       " '547',\n",
       " '19724',\n",
       " '16722',\n",
       " '9417',\n",
       " '24431',\n",
       " '17599',\n",
       " '14371',\n",
       " '10478',\n",
       " '11626',\n",
       " '10919',\n",
       " '18942',\n",
       " '2952',\n",
       " '21815',\n",
       " '7071',\n",
       " '21543',\n",
       " '24294',\n",
       " '15947',\n",
       " '10243',\n",
       " '8737',\n",
       " '15799',\n",
       " '727',\n",
       " '23387',\n",
       " '302',\n",
       " '6638',\n",
       " '9419',\n",
       " '11861',\n",
       " '18790',\n",
       " '20519',\n",
       " '22031',\n",
       " '5182',\n",
       " '3052',\n",
       " '25783',\n",
       " '14661',\n",
       " '15400',\n",
       " '15580',\n",
       " '24601',\n",
       " '8408',\n",
       " '11403',\n",
       " '21695',\n",
       " '3059',\n",
       " '5361',\n",
       " '9090',\n",
       " '16225',\n",
       " '23945',\n",
       " '23721',\n",
       " '11528',\n",
       " '3323',\n",
       " '18540',\n",
       " '5807',\n",
       " '19023',\n",
       " '20660',\n",
       " '9125',\n",
       " '15251',\n",
       " '18067',\n",
       " '11401',\n",
       " '21322',\n",
       " '197',\n",
       " '21433',\n",
       " '18299',\n",
       " '2661',\n",
       " '15006',\n",
       " '3967',\n",
       " '16888',\n",
       " '19475',\n",
       " '17308',\n",
       " '24183',\n",
       " '16584',\n",
       " '12642',\n",
       " '16962',\n",
       " '3999',\n",
       " '25872',\n",
       " '24097',\n",
       " '8596',\n",
       " '15245',\n",
       " '6627',\n",
       " '4705',\n",
       " '5674',\n",
       " '19446',\n",
       " '4656',\n",
       " '1497',\n",
       " '299',\n",
       " '11806',\n",
       " '13705',\n",
       " '7635',\n",
       " '23488',\n",
       " '11015',\n",
       " '13067',\n",
       " '20173',\n",
       " '15191',\n",
       " '3033',\n",
       " '23385',\n",
       " '1600',\n",
       " '9987',\n",
       " '25599',\n",
       " '1561',\n",
       " '7090',\n",
       " '23513',\n",
       " '15206',\n",
       " '16332',\n",
       " '1982',\n",
       " '3194',\n",
       " '8215',\n",
       " '2342',\n",
       " '1427',\n",
       " '7069',\n",
       " '22887',\n",
       " '19961',\n",
       " '7309',\n",
       " '20702',\n",
       " '17584',\n",
       " '25289',\n",
       " '6703',\n",
       " '4967',\n",
       " '8541',\n",
       " '16483',\n",
       " '12745',\n",
       " '25896',\n",
       " '6857',\n",
       " '628',\n",
       " '4000',\n",
       " '12268',\n",
       " '17991',\n",
       " '4774',\n",
       " '9458',\n",
       " '16718',\n",
       " '6031',\n",
       " '13369',\n",
       " '5227',\n",
       " '352',\n",
       " '3618',\n",
       " '23306',\n",
       " '19573',\n",
       " '8446',\n",
       " '23714',\n",
       " '19350',\n",
       " '13199',\n",
       " '4428',\n",
       " '5162',\n",
       " '385',\n",
       " '17297',\n",
       " '1028',\n",
       " '8732',\n",
       " '20854',\n",
       " '2664',\n",
       " '8374',\n",
       " '15108',\n",
       " '23481',\n",
       " '7878',\n",
       " '15571',\n",
       " '4125',\n",
       " '23064',\n",
       " '18723',\n",
       " '2255',\n",
       " '16159',\n",
       " '19358',\n",
       " '9099',\n",
       " '23918',\n",
       " '312',\n",
       " '25180',\n",
       " '24616',\n",
       " '19568',\n",
       " '13714',\n",
       " '15205',\n",
       " '21090',\n",
       " '22793',\n",
       " '8118',\n",
       " '22225',\n",
       " '11733',\n",
       " '2852',\n",
       " '16749',\n",
       " '4115',\n",
       " '22375',\n",
       " '12496',\n",
       " '5218',\n",
       " '8376',\n",
       " '25436',\n",
       " '24475',\n",
       " '23968',\n",
       " '16568',\n",
       " '19107',\n",
       " '4380',\n",
       " '25235',\n",
       " '1153',\n",
       " '23095',\n",
       " '22074',\n",
       " '3937',\n",
       " '23458',\n",
       " '21832',\n",
       " '22964',\n",
       " '10004',\n",
       " '10711',\n",
       " '18720',\n",
       " '1508',\n",
       " '10055',\n",
       " '1968',\n",
       " '2912',\n",
       " '1550',\n",
       " '24696',\n",
       " '570',\n",
       " '18408',\n",
       " '18772',\n",
       " '20792',\n",
       " '5622',\n",
       " '25553',\n",
       " '13832',\n",
       " '25829',\n",
       " '12640',\n",
       " '1321',\n",
       " '15357',\n",
       " '8851',\n",
       " ...}"
      ]
     },
     "execution_count": 39,
     "metadata": {},
     "output_type": "execute_result"
    }
   ],
   "source": [
    "components[0]"
   ]
  },
  {
   "cell_type": "markdown",
   "metadata": {},
   "source": [
    "Let's compare the size of this component with the size of the network. We'll calculate the size of the component as a percentage of the number of nodes in the network."
   ]
  },
  {
   "cell_type": "code",
   "execution_count": 28,
   "metadata": {},
   "outputs": [
    {
     "data": {
      "text/plain": [
       "87.46"
      ]
     },
     "execution_count": 28,
     "metadata": {},
     "output_type": "execute_result"
    }
   ],
   "source": [
    "round(100*len(components[0])/g.number_of_nodes(),2)"
   ]
  },
  {
   "cell_type": "markdown",
   "metadata": {},
   "source": [
    "Let's compare this with the 2nd largest component."
   ]
  },
  {
   "cell_type": "code",
   "execution_count": 29,
   "metadata": {},
   "outputs": [
    {
     "data": {
      "text/plain": [
       "0.21"
      ]
     },
     "execution_count": 29,
     "metadata": {},
     "output_type": "execute_result"
    }
   ],
   "source": [
    "round(100*len(components[1])/g.number_of_nodes(),2)"
   ]
  },
  {
   "cell_type": "markdown",
   "metadata": {},
   "source": [
    "This shows us that majority of the authors in this domain belonged to a giant component, while there rest of the authors belonged to a relatively large number of comparatively very small groups."
   ]
  },
  {
   "cell_type": "markdown",
   "metadata": {},
   "source": [
    "## Properties of the Giant Component\n",
    "Now we will explore the properties of the giant component. To do this we will extract the giant component as sub-network from our network "
   ]
  },
  {
   "cell_type": "code",
   "execution_count": 30,
   "metadata": {
    "collapsed": true
   },
   "outputs": [],
   "source": [
    "#the subgraph method takes a list/set of nodes \n",
    "#and returns a new graph from the original graph\n",
    "#, that contains only nodes in that list\n",
    "giant_subgraph = g.subgraph(components[0])"
   ]
  },
  {
   "cell_type": "markdown",
   "metadata": {},
   "source": [
    "#### Diameter\n",
    "\n",
    "Let's find the diameter of the giant component"
   ]
  },
  {
   "cell_type": "code",
   "execution_count": 31,
   "metadata": {},
   "outputs": [
    {
     "data": {
      "text/plain": [
       "18"
      ]
     },
     "execution_count": 31,
     "metadata": {},
     "output_type": "execute_result"
    }
   ],
   "source": [
    "nx.diameter(giant_subgraph)"
   ]
  },
  {
   "cell_type": "markdown",
   "metadata": {},
   "source": [
    "#### Can we say this network is a small world network?\n",
    "\n",
    "We can't say this just the diameter of the network. The diameter is the worst-case distance between a pair of nodes. We can look at the mean distance in the network to get a better idea."
   ]
  },
  {
   "cell_type": "markdown",
   "metadata": {},
   "source": [
    "#### Average Distance between node pairs in the giant component"
   ]
  },
  {
   "cell_type": "code",
   "execution_count": 34,
   "metadata": {},
   "outputs": [
    {
     "data": {
      "text/plain": [
       "5.95"
      ]
     },
     "execution_count": 34,
     "metadata": {},
     "output_type": "execute_result"
    }
   ],
   "source": [
    "round(nx.average_shortest_path_length(giant_subgraph),2)"
   ]
  },
  {
   "cell_type": "markdown",
   "metadata": {},
   "source": [
    "# Exercise\n",
    "Now you can try out these steps with a new network. We will use the co-author network in General Relativity (introduced by Einstein) from Arxiv. Try to answer each of the questions in order by using the code cells immediately below the question. We've completed the first step for you.\n"
   ]
  },
  {
   "cell_type": "markdown",
   "metadata": {},
   "source": [
    "### Construct the network"
   ]
  },
  {
   "cell_type": "code",
   "execution_count": 35,
   "metadata": {
    "collapsed": true
   },
   "outputs": [],
   "source": [
    "g2 = nx.read_edgelist(\"ca-GrQc.txt\", create_using=nx.Graph(), delimiter='\\t')"
   ]
  },
  {
   "cell_type": "markdown",
   "metadata": {},
   "source": [
    "### How many nodes does the network have?"
   ]
  },
  {
   "cell_type": "code",
   "execution_count": null,
   "metadata": {},
   "outputs": [],
   "source": []
  },
  {
   "cell_type": "markdown",
   "metadata": {},
   "source": [
    "### How many edges does the network have?"
   ]
  },
  {
   "cell_type": "code",
   "execution_count": null,
   "metadata": {
    "collapsed": true
   },
   "outputs": [],
   "source": []
  },
  {
   "cell_type": "markdown",
   "metadata": {},
   "source": [
    "### What is the diameter of the network?"
   ]
  },
  {
   "cell_type": "code",
   "execution_count": null,
   "metadata": {
    "collapsed": true
   },
   "outputs": [],
   "source": []
  },
  {
   "cell_type": "markdown",
   "metadata": {},
   "source": [
    "### Verify whether the network is connected or not"
   ]
  },
  {
   "cell_type": "code",
   "execution_count": null,
   "metadata": {
    "collapsed": true
   },
   "outputs": [],
   "source": []
  },
  {
   "cell_type": "markdown",
   "metadata": {},
   "source": [
    "### How many components does the network have?"
   ]
  },
  {
   "cell_type": "code",
   "execution_count": null,
   "metadata": {
    "collapsed": true
   },
   "outputs": [],
   "source": []
  },
  {
   "cell_type": "markdown",
   "metadata": {},
   "source": [
    "### What fraction of the network is in the largest component?"
   ]
  },
  {
   "cell_type": "code",
   "execution_count": null,
   "metadata": {},
   "outputs": [],
   "source": []
  },
  {
   "cell_type": "markdown",
   "metadata": {},
   "source": [
    "### Compare the size of the largest component with that second largest component"
   ]
  },
  {
   "cell_type": "code",
   "execution_count": null,
   "metadata": {
    "collapsed": true
   },
   "outputs": [],
   "source": []
  },
  {
   "cell_type": "markdown",
   "metadata": {},
   "source": [
    "### Would you say the network has a giant component?"
   ]
  },
  {
   "cell_type": "code",
   "execution_count": null,
   "metadata": {
    "collapsed": true
   },
   "outputs": [],
   "source": []
  },
  {
   "cell_type": "markdown",
   "metadata": {},
   "source": [
    "### What is the diameter of the giant component?"
   ]
  },
  {
   "cell_type": "code",
   "execution_count": null,
   "metadata": {
    "collapsed": true
   },
   "outputs": [],
   "source": []
  },
  {
   "cell_type": "markdown",
   "metadata": {},
   "source": [
    "### What is the mean distance between node pairs in the giant component?"
   ]
  },
  {
   "cell_type": "code",
   "execution_count": null,
   "metadata": {
    "collapsed": true
   },
   "outputs": [],
   "source": []
  }
 ],
 "metadata": {
  "kernelspec": {
   "display_name": "Python 3",
   "language": "python",
   "name": "python3"
  },
  "language_info": {
   "codemirror_mode": {
    "name": "ipython",
    "version": 3
   },
   "file_extension": ".py",
   "mimetype": "text/x-python",
   "name": "python",
   "nbconvert_exporter": "python",
   "pygments_lexer": "ipython3",
   "version": "3.6.1"
  }
 },
 "nbformat": 4,
 "nbformat_minor": 2
}
